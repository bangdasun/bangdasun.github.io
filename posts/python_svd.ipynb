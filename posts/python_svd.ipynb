{
 "cells": [
  {
   "cell_type": "markdown",
   "metadata": {},
   "source": [
    "## Singular Value Decomposition (SVD) in Python"
   ]
  },
  {
   "cell_type": "code",
   "execution_count": 1,
   "metadata": {},
   "outputs": [],
   "source": [
    "import numpy as np\n",
    "import matplotlib.pyplot as plt\n",
    "from sklearn.feature_extraction.text import CountVectorizer\n",
    "from sklearn.decomposition import TruncatedSVD\n",
    "%matplotlib inline"
   ]
  },
  {
   "cell_type": "code",
   "execution_count": 2,
   "metadata": {},
   "outputs": [
    {
     "name": "stdout",
     "output_type": "stream",
     "text": [
      "(3, 6) (6, 6)\n"
     ]
    }
   ],
   "source": [
    "# example from CS224N\n",
    "corpus = [\n",
    "    'I like deep learning',\n",
    "    'I like NLP',\n",
    "    'I enjoy flying'\n",
    "]\n",
    "\n",
    "cnt_vectorizer = CountVectorizer(ngram_range=(1, 1))\n",
    "word_doc_cnt_matrix = cnt_vectorizer.fit_transform(corpus).toarray()\n",
    "word_cooc_matrix = word_doc_cnt_matrix.T.dot(word_doc_cnt_matrix)\n",
    "print(word_doc_cnt_matrix.shape, word_cooc_matrix.shape)"
   ]
  },
  {
   "cell_type": "markdown",
   "metadata": {},
   "source": [
    "### Comparison between `sklearn.decomposition.TruncatedSVD` and `np.linalg.svd`\n",
    "\n",
    "#### Apply `np.linalg.svd` and check reconstruction"
   ]
  },
  {
   "cell_type": "code",
   "execution_count": 3,
   "metadata": {},
   "outputs": [
    {
     "name": "stdout",
     "output_type": "stream",
     "text": [
      "(3, 3) (3,) (3, 6)\n"
     ]
    }
   ],
   "source": [
    "U, S, Vh = np.linalg.svd(word_doc_cnt_matrix, full_matrices=False)\n",
    "print(U.shape, S.shape, Vh.shape)"
   ]
  },
  {
   "cell_type": "code",
   "execution_count": 4,
   "metadata": {},
   "outputs": [
    {
     "name": "stdout",
     "output_type": "stream",
     "text": [
      "\n",
      "U =\n",
      "[[-0.851  0.    -0.526]\n",
      " [-0.526  0.     0.851]\n",
      " [ 0.     1.     0.   ]]\n",
      "\n",
      "S =\n",
      "[1.902 1.414 1.176]\n",
      "\n",
      "V =\n",
      "[[-0.447  0.     0.    -0.447 -0.724 -0.276]\n",
      " [-0.     0.707  0.707 -0.     0.     0.   ]\n",
      " [-0.447  0.     0.    -0.447  0.276  0.724]]\n"
     ]
    }
   ],
   "source": [
    "print(f'\\nU =\\n{np.round(U, 3)}')\n",
    "print(f'\\nS =\\n{np.round(S, 3)}')\n",
    "print(f'\\nV =\\n{np.round(Vh, 3)}')"
   ]
  },
  {
   "cell_type": "code",
   "execution_count": 5,
   "metadata": {},
   "outputs": [
    {
     "name": "stdout",
     "output_type": "stream",
     "text": [
      "\n",
      "Original matrix =\n",
      "[[1 0 0 1 1 0]\n",
      " [0 0 0 0 1 1]\n",
      " [0 1 1 0 0 0]]\n",
      "\n",
      "Reconstructed matrix =\n",
      "[[ 1.  0.  0.  1.  1. -0.]\n",
      " [-0.  0.  0. -0.  1.  1.]\n",
      " [-0.  1.  1. -0.  0.  0.]]\n"
     ]
    }
   ],
   "source": [
    "word_doc_cnt_matrix_recon =  (U.dot(np.diag(S))).dot(Vh)\n",
    "\n",
    "print(f'\\nOriginal matrix =\\n{word_doc_cnt_matrix}')\n",
    "print(f'\\nReconstructed matrix =\\n{np.round(word_doc_cnt_matrix_recon)}')"
   ]
  },
  {
   "cell_type": "code",
   "execution_count": 6,
   "metadata": {},
   "outputs": [
    {
     "name": "stdout",
     "output_type": "stream",
     "text": [
      "Reconstruction close? True\n"
     ]
    }
   ],
   "source": [
    "print('Reconstruction close?', np.allclose(word_doc_cnt_matrix, word_doc_cnt_matrix_recon))"
   ]
  },
  {
   "cell_type": "markdown",
   "metadata": {},
   "source": [
    "#### Apply `sklearn.decomposition.TruncatedSVD` and check transformation"
   ]
  },
  {
   "cell_type": "code",
   "execution_count": 7,
   "metadata": {},
   "outputs": [
    {
     "data": {
      "text/plain": [
       "TruncatedSVD(algorithm='randomized', n_components=3, n_iter=5,\n",
       "             random_state=2020, tol=0.0)"
      ]
     },
     "execution_count": 7,
     "metadata": {},
     "output_type": "execute_result"
    }
   ],
   "source": [
    "svd = TruncatedSVD(n_components=3, random_state=2020)\n",
    "svd.fit(word_doc_cnt_matrix)"
   ]
  },
  {
   "cell_type": "markdown",
   "metadata": {},
   "source": [
    "### Verification\n",
    "\n",
    "#### 1. `svd.components_` is equivalent to `Vh` from `np.linalg.svd(X)`"
   ]
  },
  {
   "cell_type": "code",
   "execution_count": 8,
   "metadata": {},
   "outputs": [
    {
     "data": {
      "text/plain": [
       "array([[ 0.447, -0.   , -0.   ,  0.447,  0.724,  0.276],\n",
       "       [ 0.   ,  0.707,  0.707,  0.   , -0.   , -0.   ],\n",
       "       [-0.447, -0.   , -0.   , -0.447,  0.276,  0.724]])"
      ]
     },
     "execution_count": 8,
     "metadata": {},
     "output_type": "execute_result"
    }
   ],
   "source": [
    "np.round(svd.components_, 3)"
   ]
  },
  {
   "cell_type": "code",
   "execution_count": 9,
   "metadata": {},
   "outputs": [
    {
     "data": {
      "text/plain": [
       "array([[-0.447,  0.   ,  0.   , -0.447, -0.724, -0.276],\n",
       "       [-0.   ,  0.707,  0.707, -0.   ,  0.   ,  0.   ],\n",
       "       [-0.447,  0.   ,  0.   , -0.447,  0.276,  0.724]])"
      ]
     },
     "execution_count": 9,
     "metadata": {},
     "output_type": "execute_result"
    }
   ],
   "source": [
    "np.round(Vh[:3], 3)"
   ]
  },
  {
   "cell_type": "markdown",
   "metadata": {},
   "source": [
    "#### 2. `svd.transform(X)` is equivalent to `U x S` from `np.linalg.svd(X)`"
   ]
  },
  {
   "cell_type": "code",
   "execution_count": 10,
   "metadata": {},
   "outputs": [
    {
     "data": {
      "text/plain": [
       "array([[ 1.618,  0.   , -0.618],\n",
       "       [ 1.   , -0.   ,  1.   ],\n",
       "       [-0.   ,  1.414, -0.   ]])"
      ]
     },
     "execution_count": 10,
     "metadata": {},
     "output_type": "execute_result"
    }
   ],
   "source": [
    "word_doc_cnt_matrix_trm = svd.transform(word_doc_cnt_matrix)\n",
    "np.round(word_doc_cnt_matrix_trm, 3)"
   ]
  },
  {
   "cell_type": "code",
   "execution_count": 11,
   "metadata": {},
   "outputs": [
    {
     "data": {
      "text/plain": [
       "array([[-1.618,  0.   , -0.618],\n",
       "       [-1.   ,  0.   ,  1.   ],\n",
       "       [ 0.   ,  1.414,  0.   ]])"
      ]
     },
     "execution_count": 11,
     "metadata": {},
     "output_type": "execute_result"
    }
   ],
   "source": [
    "np.round(U.dot(np.diag(S)), 3)"
   ]
  },
  {
   "cell_type": "markdown",
   "metadata": {},
   "source": [
    "#### 3. `svd.transform(X)` is equivalent to `X x svd.components_`: $US = XV^{T}$"
   ]
  },
  {
   "cell_type": "code",
   "execution_count": 12,
   "metadata": {},
   "outputs": [
    {
     "data": {
      "text/plain": [
       "array([[ 1.618,  0.   , -0.618],\n",
       "       [ 1.   , -0.   ,  1.   ],\n",
       "       [-0.   ,  1.414, -0.   ]])"
      ]
     },
     "execution_count": 12,
     "metadata": {},
     "output_type": "execute_result"
    }
   ],
   "source": [
    "np.round(word_doc_cnt_matrix.dot(svd.components_.T), 3)"
   ]
  },
  {
   "cell_type": "code",
   "execution_count": 13,
   "metadata": {},
   "outputs": [
    {
     "data": {
      "text/plain": [
       "array([[ 1.618,  0.   , -0.618],\n",
       "       [ 1.   , -0.   ,  1.   ],\n",
       "       [-0.   ,  1.414, -0.   ]])"
      ]
     },
     "execution_count": 13,
     "metadata": {},
     "output_type": "execute_result"
    }
   ],
   "source": [
    "np.round(word_doc_cnt_matrix_trm, 3)"
   ]
  },
  {
   "cell_type": "code",
   "execution_count": null,
   "metadata": {},
   "outputs": [],
   "source": []
  }
 ],
 "metadata": {
  "kernelspec": {
   "display_name": "Python 3",
   "language": "python",
   "name": "python3"
  },
  "language_info": {
   "codemirror_mode": {
    "name": "ipython",
    "version": 3
   },
   "file_extension": ".py",
   "mimetype": "text/x-python",
   "name": "python",
   "nbconvert_exporter": "python",
   "pygments_lexer": "ipython3",
   "version": "3.6.10"
  }
 },
 "nbformat": 4,
 "nbformat_minor": 4
}
