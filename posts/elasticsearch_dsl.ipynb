{
 "cells": [
  {
   "cell_type": "markdown",
   "metadata": {},
   "source": [
    "## Exploration on `elasticsearch_dsl`"
   ]
  },
  {
   "cell_type": "code",
   "execution_count": 1,
   "metadata": {},
   "outputs": [],
   "source": [
    "import json\n",
    "from elasticsearch import Elasticsearch\n",
    "from elasticsearch_dsl import Search, Q"
   ]
  },
  {
   "cell_type": "code",
   "execution_count": 2,
   "metadata": {},
   "outputs": [],
   "source": [
    "url = 'http://localhost:9200'\n",
    "es = Elasticsearch(url)"
   ]
  },
  {
   "cell_type": "markdown",
   "metadata": {},
   "source": [
    "### Example Search"
   ]
  },
  {
   "cell_type": "code",
   "execution_count": 3,
   "metadata": {},
   "outputs": [
    {
     "name": "stdout",
     "output_type": "stream",
     "text": [
      "Number of results: 29\n"
     ]
    }
   ],
   "source": [
    "s = Search()\n",
    "\n",
    "query_string = 'tags:(machine learning)'\n",
    "s = s.query('query_string', query=query_string, fields=['tags'])\n",
    "s = s.filter('range', **{'datetime': {'gte': '2017-07-01 00:00:00'}})\n",
    "s = s.highlight('tags')\n",
    "\n",
    "res = es.search(index='bangda_blog',\n",
    "                body=s.to_dict(),\n",
    "                size=50)\n",
    "\n",
    "num_results = len(res['hits']['hits'])\n",
    "print('Number of results:', num_results)"
   ]
  },
  {
   "cell_type": "code",
   "execution_count": 4,
   "metadata": {},
   "outputs": [
    {
     "name": "stdout",
     "output_type": "stream",
     "text": [
      "{\n",
      "    \"query\": {\n",
      "        \"bool\": {\n",
      "            \"filter\": [\n",
      "                {\n",
      "                    \"range\": {\n",
      "                        \"datetime\": {\n",
      "                            \"gte\": \"2017-07-01 00:00:00\"\n",
      "                        }\n",
      "                    }\n",
      "                }\n",
      "            ],\n",
      "            \"must\": [\n",
      "                {\n",
      "                    \"query_string\": {\n",
      "                        \"query\": \"tags:(machine learning)\",\n",
      "                        \"fields\": [\n",
      "                            \"tags\"\n",
      "                        ]\n",
      "                    }\n",
      "                }\n",
      "            ]\n",
      "        }\n",
      "    },\n",
      "    \"highlight\": {\n",
      "        \"fields\": {\n",
      "            \"tags\": {}\n",
      "        }\n",
      "    }\n",
      "}\n"
     ]
    }
   ],
   "source": [
    "# full query\n",
    "full_query = s.to_dict()\n",
    "print(json.dumps(full_query, indent=4))"
   ]
  },
  {
   "cell_type": "markdown",
   "metadata": {},
   "source": [
    "Search results:\n",
    "\n",
    "`_score` is by default using Lucene's Practical Scoring Function. This is a similarity model based of **Tfidf** for queries."
   ]
  },
  {
   "cell_type": "code",
   "execution_count": 5,
   "metadata": {},
   "outputs": [
    {
     "name": "stdout",
     "output_type": "stream",
     "text": [
      "Title                                                               | Tags                                                                           | Score\n",
      "------------------------------------------------------------------------------------------------------------------------------------------------------------------\n",
      "Deep Learning Basis & Cheatsheet                                    | [Machine Learning, Deep Learning]                                              | 1.773541\n",
      "First Journey through Kaggle                                        | [Machine Learning, Kaggle]                                                     | 1.6966699\n",
      "My Kaggle Experiences Summary                                       | [Machine Learning, Kaggle]                                                     | 1.6966699\n",
      "Stanford NLP (coursera) Notes (10) - Relation Extraction            | [NLP, Machine Learning]                                                        | 1.6966699\n",
      "L1 Norm Regularization Explained                                    | [Machine Learning, Mathematics]                                                | 1.6966699\n",
      "Bias and Variance Trade-Off                                         | [Machine Learning, Model Evaluation]                                           | 1.5271713\n",
      "Stanford NLP (coursera) Notes (9) - Information Extraction and NER  | [NLP, Machine Learning, Algorithm]                                             | 1.5271713\n",
      "Recommender Systems Overview - From A Survey                        | [Recommender Sys, Machine Learning]                                            | 1.5271713\n",
      "Deep Learning for Anomaly Detection                                 | [Machine Learning, Deep Learning, Anomaly Detection]                           | 1.5205741\n",
      "Wide and Deep Learning for Recommender Systems                      | [Recommender Sys, Machine Learning, Deep Learning]                             | 1.5205741\n",
      "DeepFM - Combining FM and Neural Nets                               | [Machine Learning, Deep Learning, CTR, Factorization Models]                   | 1.419929\n",
      "Common Metrics in Binary Classification Problems                    | [Machine Learning, Model Evaluation, Metrics]                                  | 1.3884627\n",
      "Practical Application of Metrics in Binary Classifications          | [Machine Learning, Model Evaluation, Metrics]                                  | 1.3884627\n",
      "A Simple Framework for Predicting CTR in Display Advertising        | [Machine Learning, Computational Advertising, CTR]                             | 1.3884627\n",
      "Practical Experiences for Ad Click Prediction                       | [Machine Learning, Computational Advertising, CTR]                             | 1.3884627\n",
      "Estimating CTR for New Ads in Search Advertising                    | [Machine Learning, Computational Advertising, CTR]                             | 1.3884627\n",
      "XGBoost - How it works                                              | [Machine Learning, Ensemble Algorithms, Decision Tree]                         | 1.2728528\n",
      "LightGBM - A more Efficient GBM Framework                           | [Machine Learning, Ensemble Algorithms, Decision Tree]                         | 1.2728528\n",
      "Practical Comparison of XGBoost and LightGBM                        | [Machine Learning, Ensemble Algorithms, Decision Tree]                         | 1.2728528\n",
      "Matrix Factorization for Recommender Systems                        | [Recommender Sys, Machine Learning, Factorization Models]                      | 1.2728528\n",
      "Factorization Machine - A General Predictor for Sparse Data         | [Machine Learning, Recommender Sys, Factorization Models]                      | 1.2728528\n",
      "NBSVM - A Strong Classification Baseline                            | [Machine Learning, NLP, Classification, Naive Bayes, SVM]                      | 1.1750157\n",
      "FFM - More Elaborated and Refined Factorization Machines            | [Machine Learning, Recommender Sys, CTR, Factorization Models]                 | 1.1750157\n",
      "Time Series Precision Recall                                        | [Machine Learning, Anomaly Detection, Time Series, Model Evaluation, Metrics]  | 1.0184505\n",
      "Denoising Autoencoder - A Robust Feature Extractor                  | [Deep Learning, Unsupervised Learning]                                         | 0.9156058\n",
      "Machine Learning Overview Series (7) - LSTM and GRU                 | [Deep Learning, RNN]                                                           | 0.74351376\n",
      "Neural Network on Language Model                                    | [Deep Learning, NLP, Language Model]                                           | 0.60845137\n",
      "Models to Learn Word Representation                                 | [Deep Learning, NLP, Word Embeddings]                                          | 0.60845137\n",
      "Efficient Way to Train Word Embeddings                              | [Deep Learning, NLP, Word Embeddings]                                          | 0.60845137\n"
     ]
    }
   ],
   "source": [
    "ml_blogs = []\n",
    "\n",
    "print('{:67s} | {:78s} | {}'.format('Title', 'Tags', 'Score'))\n",
    "print('-' * 162)    \n",
    "for result in res['hits']['hits']:\n",
    "    print('{:67s} | {:78s} | {}'.format(result['_source']['title'], result['_source']['tags'], result['_score']))\n",
    "    ml_blogs.append(result['_source']['text'])"
   ]
  },
  {
   "cell_type": "markdown",
   "metadata": {},
   "source": [
    "### Query DSL\n",
    "\n",
    "Elasticsearch provides a full Query DSL based on JSON to define queries."
   ]
  },
  {
   "cell_type": "markdown",
   "metadata": {},
   "source": [
    "#### Compare `query context` and `filter context`\n",
    "\n",
    "- A query clause used in query context answers the question \"How well does this document match this query clause?\" Besides deciding whether or not the document matches, the query clause also calculates a `_score` representing how well the document matches, relative to other documents.\n",
    "\n",
    "- In filter context, a query clause answers the question \"Does this document match this query clause?\" The answer is a simple Yes or No — no scores are calculated"
   ]
  },
  {
   "cell_type": "code",
   "execution_count": 6,
   "metadata": {},
   "outputs": [
    {
     "name": "stdout",
     "output_type": "stream",
     "text": [
      "{\n",
      "    \"query\": {\n",
      "        \"bool\": {\n",
      "            \"must\": [\n",
      "                {\n",
      "                    \"query_string\": {\n",
      "                        \"query\": \"tags:(machine learning)\",\n",
      "                        \"fields\": [\n",
      "                            \"tags\"\n",
      "                        ]\n",
      "                    }\n",
      "                },\n",
      "                {\n",
      "                    \"range\": {\n",
      "                        \"datetime\": {\n",
      "                            \"gte\": \"2017-07-01 00:00:00\"\n",
      "                        }\n",
      "                    }\n",
      "                }\n",
      "            ]\n",
      "        }\n",
      "    },\n",
      "    \"highlight\": {\n",
      "        \"fields\": {\n",
      "            \"tags\": {}\n",
      "        }\n",
      "    }\n",
      "}\n"
     ]
    }
   ],
   "source": [
    "s = Search()\n",
    "\n",
    "query_string = 'tags:(machine learning)'\n",
    "s = s.query('query_string', query=query_string, fields=['tags'])\n",
    "# change from filter to query\n",
    "s = s.query('range', **{'datetime': {'gte': '2017-07-01 00:00:00'}})\n",
    "s = s.highlight('tags')\n",
    "\n",
    "# full query\n",
    "full_query = s.to_dict()\n",
    "print(json.dumps(full_query, indent=4))"
   ]
  },
  {
   "cell_type": "markdown",
   "metadata": {},
   "source": [
    "**Observations**: `range` on `datetime` moves under `must` from `filter`"
   ]
  },
  {
   "cell_type": "markdown",
   "metadata": {},
   "source": [
    "#### Explore `term` / `match` query  and logical operators (`must`, `should`, `must_not`)\n",
    "\n",
    "- Exact `deep`"
   ]
  },
  {
   "cell_type": "code",
   "execution_count": 7,
   "metadata": {},
   "outputs": [
    {
     "name": "stdout",
     "output_type": "stream",
     "text": [
      "{\n",
      "    \"query\": {\n",
      "        \"term\": {\n",
      "            \"title\": \"learning\"\n",
      "        }\n",
      "    }\n",
      "}\n",
      "Number of results: 13\n",
      "Title                                                               | Tags                                                                           | Score\n",
      "------------------------------------------------------------------------------------------------------------------------------------------------------------------\n",
      "Deep Learning Basis & Cheatsheet                                    | [Machine Learning, Deep Learning]                                              | 1.6724609\n",
      "Deep Learning for Anomaly Detection                                 | [Machine Learning, Deep Learning, Anomaly Detection]                           | 1.5507748\n",
      "AB Testing (Udacity) Learning Notes (1)                             | [Data Science, Analytics]                                                      | 1.4455951\n",
      "AB Testing (Udacity) Learning Notes (2)                             | [Data Science, Analytics]                                                      | 1.4455951\n",
      "AB Testing (Udacity) Learning Notes (3)                             | [Data Science, Analytics]                                                      | 1.4455951\n",
      "Machine Learning Overview Series (1) - Logistic Regression          | [Classification, Linear Models, Logistic Regression]                           | 1.3537766\n",
      "Machine Learning Overview Series (2) - Linear Regression            | [Regression, Linear Models, Linear Regression]                                 | 1.3537766\n",
      "Machine Learning Overview Series (3) - Regression Tree              | [Regression, Decision Tree]                                                    | 1.3537766\n",
      "Machine Learning Overview Series (4) - Classification Tree          | [Classification, Decision Tree]                                                | 1.3537766\n",
      "Wide and Deep Learning for Recommender Systems                      | [Recommender Sys, Machine Learning, Deep Learning]                             | 1.3537766\n",
      "Machine Learning Overview Series (6) - Support Vector Machines      | [Classification, SVM]                                                          | 1.2729254\n",
      "Machine Learning Overview Series (7) - LSTM and GRU                 | [Deep Learning, RNN]                                                           | 1.2729254\n",
      "Machine Learning Overview Series (5) - Bagging and Random Forests   | [Classification, Ensemble Algorithms, Decision Tree]                           | 1.2011871\n"
     ]
    }
   ],
   "source": [
    "s = Search()\n",
    "\n",
    "s = s.query('term', title='learning')\n",
    "\n",
    "# full query\n",
    "full_query = s.to_dict()\n",
    "print(json.dumps(full_query, indent=4))\n",
    "\n",
    "res = es.search(index='bangda_blog', body=s.to_dict(), size=50)\n",
    "num_results = len(res['hits']['hits'])\n",
    "print('Number of results:', num_results)\n",
    "\n",
    "print('{:67s} | {:78s} | {}'.format('Title', 'Tags', 'Score'))\n",
    "print('-' * 162)    \n",
    "for result in res['hits']['hits']:\n",
    "    print('{:67s} | {:78s} | {}'.format(result['_source']['title'], result['_source']['tags'], result['_score']))"
   ]
  },
  {
   "cell_type": "markdown",
   "metadata": {},
   "source": [
    "- Exact `deep learning`\n",
    "\n",
    "Use `title='deep learning'` in `term` will return 0 results, need to use `must` to connect: `must` is like `AND` in SQL"
   ]
  },
  {
   "cell_type": "code",
   "execution_count": 8,
   "metadata": {},
   "outputs": [
    {
     "name": "stdout",
     "output_type": "stream",
     "text": [
      "{\n",
      "    \"query\": {\n",
      "        \"bool\": {\n",
      "            \"must\": [\n",
      "                {\n",
      "                    \"term\": {\n",
      "                        \"title\": \"deep\"\n",
      "                    }\n",
      "                },\n",
      "                {\n",
      "                    \"term\": {\n",
      "                        \"title\": \"learning\"\n",
      "                    }\n",
      "                }\n",
      "            ]\n",
      "        }\n",
      "    }\n",
      "}\n",
      "Number of results: 3\n",
      "Title                                                               | Tags                                                                           | Score\n",
      "------------------------------------------------------------------------------------------------------------------------------------------------------------------\n",
      "Deep Learning Basis & Cheatsheet                                    | [Machine Learning, Deep Learning]                                              | 4.912375\n",
      "Deep Learning for Anomaly Detection                                 | [Machine Learning, Deep Learning, Anomaly Detection]                           | 4.554957\n",
      "Wide and Deep Learning for Recommender Systems                      | [Recommender Sys, Machine Learning, Deep Learning]                             | 3.9763312\n"
     ]
    }
   ],
   "source": [
    "s = Search()\n",
    "\n",
    "s = s.query('term', title='deep')\n",
    "s = s.query('term', title='learning')\n",
    "\n",
    "# full query\n",
    "full_query = s.to_dict()\n",
    "print(json.dumps(full_query, indent=4))\n",
    "\n",
    "res = es.search(index='bangda_blog', body=s.to_dict(), size=50)\n",
    "num_results = len(res['hits']['hits'])\n",
    "print('Number of results:', num_results)\n",
    "\n",
    "print('{:67s} | {:78s} | {}'.format('Title', 'Tags', 'Score'))\n",
    "print('-' * 162)    \n",
    "for result in res['hits']['hits']:\n",
    "    print('{:67s} | {:78s} | {}'.format(result['_source']['title'], result['_source']['tags'], result['_score']))"
   ]
  },
  {
   "cell_type": "markdown",
   "metadata": {},
   "source": [
    "- Exact `Deep` OR `Learning`\n",
    "\n",
    "Use `title='deep learning'` in `match` will return all results mention `deep` **OR** `learning`"
   ]
  },
  {
   "cell_type": "code",
   "execution_count": 9,
   "metadata": {},
   "outputs": [
    {
     "name": "stdout",
     "output_type": "stream",
     "text": [
      "{\n",
      "    \"query\": {\n",
      "        \"match\": {\n",
      "            \"title\": \"learning\"\n",
      "        }\n",
      "    }\n",
      "}\n",
      "Number of results: 13\n",
      "Title                                                               | Tags                                                                           | Score\n",
      "------------------------------------------------------------------------------------------------------------------------------------------------------------------\n",
      "Deep Learning Basis & Cheatsheet                                    | [Machine Learning, Deep Learning]                                              | 1.6724609\n",
      "Deep Learning for Anomaly Detection                                 | [Machine Learning, Deep Learning, Anomaly Detection]                           | 1.5507748\n",
      "AB Testing (Udacity) Learning Notes (1)                             | [Data Science, Analytics]                                                      | 1.4455951\n",
      "AB Testing (Udacity) Learning Notes (2)                             | [Data Science, Analytics]                                                      | 1.4455951\n",
      "AB Testing (Udacity) Learning Notes (3)                             | [Data Science, Analytics]                                                      | 1.4455951\n",
      "Machine Learning Overview Series (1) - Logistic Regression          | [Classification, Linear Models, Logistic Regression]                           | 1.3537766\n",
      "Machine Learning Overview Series (2) - Linear Regression            | [Regression, Linear Models, Linear Regression]                                 | 1.3537766\n",
      "Machine Learning Overview Series (3) - Regression Tree              | [Regression, Decision Tree]                                                    | 1.3537766\n",
      "Machine Learning Overview Series (4) - Classification Tree          | [Classification, Decision Tree]                                                | 1.3537766\n",
      "Wide and Deep Learning for Recommender Systems                      | [Recommender Sys, Machine Learning, Deep Learning]                             | 1.3537766\n",
      "Machine Learning Overview Series (6) - Support Vector Machines      | [Classification, SVM]                                                          | 1.2729254\n",
      "Machine Learning Overview Series (7) - LSTM and GRU                 | [Deep Learning, RNN]                                                           | 1.2729254\n",
      "Machine Learning Overview Series (5) - Bagging and Random Forests   | [Classification, Ensemble Algorithms, Decision Tree]                           | 1.2011871\n"
     ]
    }
   ],
   "source": [
    "s = Search()\n",
    "\n",
    "s = s.query('match', title='learning')\n",
    "\n",
    "# full query\n",
    "full_query = s.to_dict()\n",
    "print(json.dumps(full_query, indent=4))\n",
    "\n",
    "res = es.search(index='bangda_blog', body=s.to_dict(), size=50)\n",
    "num_results = len(res['hits']['hits'])\n",
    "print('Number of results:', num_results)\n",
    "\n",
    "print('{:67s} | {:78s} | {}'.format('Title', 'Tags', 'Score'))\n",
    "print('-' * 162)    \n",
    "for result in res['hits']['hits']:\n",
    "    print('{:67s} | {:78s} | {}'.format(result['_source']['title'], result['_source']['tags'], result['_score']))"
   ]
  },
  {
   "cell_type": "markdown",
   "metadata": {},
   "source": [
    "Use `should`: like `OR` in SQL"
   ]
  },
  {
   "cell_type": "code",
   "execution_count": 10,
   "metadata": {},
   "outputs": [
    {
     "name": "stdout",
     "output_type": "stream",
     "text": [
      "{\n",
      "    \"query\": {\n",
      "        \"bool\": {\n",
      "            \"must\": [\n",
      "                {\n",
      "                    \"term\": {\n",
      "                        \"title\": \"deep\"\n",
      "                    }\n",
      "                }\n",
      "            ],\n",
      "            \"should\": [\n",
      "                {\n",
      "                    \"term\": {\n",
      "                        \"title\": \"learning\"\n",
      "                    }\n",
      "                }\n",
      "            ]\n",
      "        }\n",
      "    }\n",
      "}\n",
      "Number of results: 3\n",
      "Title                                                               | Tags                                                                           | Score\n",
      "------------------------------------------------------------------------------------------------------------------------------------------------------------------\n",
      "Deep Learning Basis & Cheatsheet                                    | [Machine Learning, Deep Learning]                                              | 4.912375\n",
      "Deep Learning for Anomaly Detection                                 | [Machine Learning, Deep Learning, Anomaly Detection]                           | 4.554957\n",
      "Wide and Deep Learning for Recommender Systems                      | [Recommender Sys, Machine Learning, Deep Learning]                             | 3.9763312\n"
     ]
    }
   ],
   "source": [
    "s = Search()\n",
    "\n",
    "query = Q('bool', must=[Q('term', title='deep')], should=[Q('term', title='learning')])\n",
    "s = s.query(query)\n",
    "\n",
    "# full query\n",
    "full_query = s.to_dict()\n",
    "print(json.dumps(full_query, indent=4))\n",
    "\n",
    "res = es.search(index='bangda_blog', body=s.to_dict(), size=50)\n",
    "num_results = len(res['hits']['hits'])\n",
    "print('Number of results:', num_results)\n",
    "\n",
    "print('{:67s} | {:78s} | {}'.format('Title', 'Tags', 'Score'))\n",
    "print('-' * 162)    \n",
    "for result in res['hits']['hits']:\n",
    "    print('{:67s} | {:78s} | {}'.format(result['_source']['title'], result['_source']['tags'], result['_score']))"
   ]
  },
  {
   "cell_type": "markdown",
   "metadata": {},
   "source": [
    "#### Query on multiple fields"
   ]
  },
  {
   "cell_type": "code",
   "execution_count": 11,
   "metadata": {},
   "outputs": [
    {
     "name": "stdout",
     "output_type": "stream",
     "text": [
      "{\n",
      "    \"query\": {\n",
      "        \"bool\": {\n",
      "            \"must\": [\n",
      "                {\n",
      "                    \"match\": {\n",
      "                        \"title\": \"recommender\"\n",
      "                    }\n",
      "                },\n",
      "                {\n",
      "                    \"match\": {\n",
      "                        \"tags\": \"learning\"\n",
      "                    }\n",
      "                }\n",
      "            ]\n",
      "        }\n",
      "    }\n",
      "}\n",
      "Number of results: 3\n",
      "Title                                                               | Tags                                                                           | Score\n",
      "------------------------------------------------------------------------------------------------------------------------------------------------------------------\n",
      "Matrix Factorization for Recommender Systems                        | [Recommender Sys, Machine Learning, Factorization Models]                      | 3.561971\n",
      "Recommender Systems Overview - From A Survey                        | [Recommender Sys, Machine Learning]                                            | 3.469663\n",
      "Wide and Deep Learning for Recommender Systems                      | [Recommender Sys, Machine Learning, Deep Learning]                             | 3.4280648\n"
     ]
    }
   ],
   "source": [
    "s = Search()\n",
    "\n",
    "query = Q('bool', must=[Q('match', title='recommender'), Q('match', tags='learning')])\n",
    "s = s.query(query)\n",
    "\n",
    "# full query\n",
    "full_query = s.to_dict()\n",
    "print(json.dumps(full_query, indent=4))\n",
    "\n",
    "res = es.search(index='bangda_blog', body=s.to_dict(), size=50)\n",
    "num_results = len(res['hits']['hits'])\n",
    "print('Number of results:', num_results)\n",
    "\n",
    "print('{:67s} | {:78s} | {}'.format('Title', 'Tags', 'Score'))\n",
    "print('-' * 162)    \n",
    "for result in res['hits']['hits']:\n",
    "    print('{:67s} | {:78s} | {}'.format(result['_source']['title'], result['_source']['tags'], result['_score']))"
   ]
  },
  {
   "cell_type": "code",
   "execution_count": null,
   "metadata": {},
   "outputs": [],
   "source": []
  }
 ],
 "metadata": {
  "kernelspec": {
   "display_name": "Python 3",
   "language": "python",
   "name": "python3"
  },
  "language_info": {
   "codemirror_mode": {
    "name": "ipython",
    "version": 3
   },
   "file_extension": ".py",
   "mimetype": "text/x-python",
   "name": "python",
   "nbconvert_exporter": "python",
   "pygments_lexer": "ipython3",
   "version": "3.6.10"
  }
 },
 "nbformat": 4,
 "nbformat_minor": 4
}
